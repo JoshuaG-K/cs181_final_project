{
 "cells": [
  {
   "cell_type": "code",
   "execution_count": 14,
   "metadata": {},
   "outputs": [
    {
     "name": "stdout",
     "output_type": "stream",
     "text": [
      "Requirement already satisfied: spotipy in c:\\users\\joshua g-k\\anaconda3\\lib\\site-packages (2.19.0)\n",
      "Requirement already satisfied: urllib3>=1.26.0 in c:\\users\\joshua g-k\\anaconda3\\lib\\site-packages (from spotipy) (1.26.9)\n",
      "Requirement already satisfied: six>=1.15.0 in c:\\users\\joshua g-k\\anaconda3\\lib\\site-packages (from spotipy) (1.16.0)\n",
      "Requirement already satisfied: requests>=2.25.0 in c:\\users\\joshua g-k\\anaconda3\\lib\\site-packages (from spotipy) (2.27.1)\n",
      "Requirement already satisfied: certifi>=2017.4.17 in c:\\users\\joshua g-k\\anaconda3\\lib\\site-packages (from requests>=2.25.0->spotipy) (2018.4.16)\n",
      "Requirement already satisfied: charset-normalizer~=2.0.0; python_version >= \"3\" in c:\\users\\joshua g-k\\anaconda3\\lib\\site-packages (from requests>=2.25.0->spotipy) (2.0.12)\n",
      "Requirement already satisfied: idna<4,>=2.5; python_version >= \"3\" in c:\\users\\joshua g-k\\anaconda3\\lib\\site-packages (from requests>=2.25.0->spotipy) (2.6)\n"
     ]
    },
    {
     "name": "stderr",
     "output_type": "stream",
     "text": [
      "distributed 1.21.8 requires msgpack, which is not installed.\n",
      "You are using pip version 10.0.1, however version 21.3.1 is available.\n",
      "You should consider upgrading via the 'python -m pip install --upgrade pip' command.\n"
     ]
    }
   ],
   "source": [
    "!pip install spotipy\n",
    "import spotipy\n",
    "from spotipy.oauth2 import SpotifyClientCredentials\n",
    "import pandas as pd\n",
    "import time \n",
    "import numpy as np"
   ]
  },
  {
   "cell_type": "code",
   "execution_count": 15,
   "metadata": {},
   "outputs": [],
   "source": [
    "\n",
    "\n",
    "# We encountered several difficulties \n",
    "# along the way that stalled us for hours. It was\n",
    "#  incredibly difficult for us to determine how\n",
    "#   to generate a token and our token generating \n",
    "#   was failing. However, we found a great alternative\n",
    "#    that allowed us to obtain the needed information\n",
    "    # # from a personal user. \n",
    "\n",
    "    # Here's our slides:  https://docs.google.com/presentation/d/1xHC0CAzLZTtsaFAwmHM36Kn_Ph9yZnPPA6DDyxs8cGI/edit?usp=sharing"
   ]
  },
  {
   "cell_type": "code",
   "execution_count": 21,
   "metadata": {},
   "outputs": [],
   "source": [
    "client_id = \"e48709930bc044afb6047c47172f98e9\"\n",
    "client_secret = \"50e182557c4c4428ac50e3f6abb8accd\"\n",
    "\n",
    "client_credentials_manager = SpotifyClientCredentials(client_id, client_secret)\n",
    "sp = spotipy.Spotify(client_credentials_manager=client_credentials_manager)"
   ]
  },
  {
   "cell_type": "code",
   "execution_count": 26,
   "metadata": {},
   "outputs": [
    {
     "data": {
      "text/plain": [
       "['0Mf6WhWLfOpzOxacvbcboj',\n",
       " '75ls0gurX68lUmMjE7QcsE',\n",
       " '4OT8GH9u9Gx7ydJ49ULunN',\n",
       " '6HBznW6Doe0w8WBazMavO5',\n",
       " '1CmhkiXegdbj3Ewizvdg2Q',\n",
       " '6XyxCBp6x3jvtxXvMN5sAA',\n",
       " '0aZgW8Nzg38hN00pEFyIEj',\n",
       " '4qjLvvBh5ZeKEPyShKRf06',\n",
       " '1n4vgMWmmNlXrvyxQFhUEl',\n",
       " '5jr6pG3khBcBXZRm8NogSe',\n",
       " '0APAKxMXB7jdDs4kw1l30y',\n",
       " '6kcHg7XL6SKyPNd78daRBL',\n",
       " '1Rvl9e8bRf4EVEyZNg1YHW',\n",
       " '1UsHdJAj4Y1sMIqAh1mS02',\n",
       " '7laJx5tDtvm3Mkj832oxSb',\n",
       " '6VKX7rGnHoHJ4bECP12OOG',\n",
       " '1Ac5BDsGUMQ3tsW2vnc52x',\n",
       " '781V2Y5LPtcpgONEOadadE',\n",
       " '3xaugmCyXrVkrDTXbFkMW3',\n",
       " '6eDfe957aV4sqGnDhlSikJ',\n",
       " '7lkeI7MsLOZ5gyh9ejaf3W',\n",
       " '6Ed1q0X8oSKSm4IIhiQbYg',\n",
       " '2Yer0p7uB2lVBUAtANuuQp',\n",
       " '6smjTvYyBqTD71vXyJZviN',\n",
       " '1tuyf2jFaU9kFevnSiMzGh',\n",
       " '7ihHmMBWoS3PqpFf9FPv7A',\n",
       " '58mtgcQVZ56NgWHKsN94nD',\n",
       " '6jaLFu5HvfNrI1JmcM4eXu',\n",
       " '5Apvsk0suoivI1H8CmBglv',\n",
       " '4HfLQJtVT1KiX1eVedDyTm',\n",
       " '0mc51xomEC6CZUZdB8xgQU',\n",
       " '1BYZxKSf0aTxp8ZFoeyM3d',\n",
       " '4BsLwvaJOTOHDNg7xMpvrL',\n",
       " '21pNGvUyQ8NjcfRrzge25F',\n",
       " '3TgMcrV32NUKjEG2ujn9eh',\n",
       " '3UHuJt2WkLxGdbxn36T9vc',\n",
       " '0Go4vJCANocYhShpIVuQDV',\n",
       " '36fRbuu9QkKVDR1j7jTI2U',\n",
       " '2N5zMZX7YeL1tico8oQxa9',\n",
       " '21jGcNKet2qwijlDFuPiPb',\n",
       " '2GiJYvgVaD2HtM8GqD9EgQ',\n",
       " '3XEdqQtGHAM5huMrs3RaKN',\n",
       " '0rTV5WefWd1J3OwIheTzxM',\n",
       " '5dmPNuHmRRJuHmJTDa7NuJ',\n",
       " '2iQYqdalv245vrCEM4W9N9',\n",
       " '49UDOG8DoBajXTJSTqfRMg',\n",
       " '5EIfRhrHwSCa4rhA4jXyES',\n",
       " '6w6I3AFRv7tQMmUTgAghUB',\n",
       " '5lN1EH25gdiqT1SFALMAq1',\n",
       " '119c93MHjrDLJTApCVGpvx',\n",
       " '305WCRhhS10XUcH6AEwZk6',\n",
       " '0SLOiJClXkAZluClYpke95',\n",
       " '7mAF2MJdbNT75VrVcgwT6F',\n",
       " '5GKVcvTgnFYtfh25qKQtRg',\n",
       " '1595LW73XBxkRk2ciQOHfr',\n",
       " '2bMgDv7CVoHnBpwUbFHwLv',\n",
       " '1YLJVmuzeM2YSUkCCaTNUB',\n",
       " '43zdsphuZLzwA9k4DJhU0I',\n",
       " '2ernyipGR40Ownwem1s2AB',\n",
       " '7hpFYWL3cw5m4y70cce7Zb',\n",
       " '5aYBn1ob9b1ZAvxfO3WLrC',\n",
       " '6azDDykaIBHmZQFEFTKycC',\n",
       " '6pMsnOX9ZdRrvq7GNZiunG',\n",
       " '495E0XysRBE4keaGqL3QDC',\n",
       " '701DK0It9f7iurRnzKvF0y',\n",
       " '0qPeakaeFndczx9OhJIFp6',\n",
       " '4z1fNs2B7KndCsvyPgrhq5',\n",
       " '56zZ48jdyY2oDXHVnwg5Di',\n",
       " '1HT0RzPuChHC1kWbIplHyw',\n",
       " '2cYVtBHkrkk7F2qU2Y7Fn0',\n",
       " '1azntoRYHtrEfAhicqPuit',\n",
       " '6H167kbd8gY2Eewzf14YjD',\n",
       " '1PXsUXSM3LF2XNSkmIldPb',\n",
       " '37Q5anxoGWYdRsyeXkkNoI',\n",
       " '7bfocP7GYoLOutUYpTI8tx',\n",
       " '4dC5kCBQEMgRjEvlavlsZy',\n",
       " '4ylWMuGbMXNDgDd8lErEle',\n",
       " '0RoA7ObU6phWpqhlC9zH4Z',\n",
       " '66y7x28jXOPrcmu3D5Zjh6',\n",
       " '5xNUR50KxswPRAvx7S163g',\n",
       " '2cKovq3l6OJjhVVDbVKOsr',\n",
       " '0Gl5s8IhMmQE5YQwM8Qx1J',\n",
       " '45aBsnKRWUzhwbcqOJLwfe',\n",
       " '65fpYBrI8o2cfrwf2US4gq',\n",
       " '0GVuLQtPXFaL18ijEOqoAa',\n",
       " '6f8b6mxNNDJdE5tC4MCTxt',\n",
       " '3IkWmgGsXbsafrunwPojXO',\n",
       " '4HBo946zIZAYhyzlZ7hfGo',\n",
       " '5YgXVo1eBpGSsLFhRkrwQw',\n",
       " '0frc2vOuYf0Ug0xafsNgB1',\n",
       " '03fJjiNTn1gyzbqHl1Hskt',\n",
       " '2kRFrWaLWiKq48YYVdGcm8',\n",
       " '3h4SuKLNaHc7gFYsVqRWGD',\n",
       " '49NhcU5PQvkOQ13PZK3jc6',\n",
       " '2L7yZATBaLmKEb0BvIBXK2',\n",
       " '2i4j8YcQb2uCUkrqhGwZw5',\n",
       " '2jh3EaEfkFu85QKltKO9Dt',\n",
       " '6LvwcvxXK6sDVorLh0ChyL',\n",
       " '3EmQOof5ylYi1vbsF2cDqY',\n",
       " '77yGZRjuWfSzbDT0ROSSUG']"
      ]
     },
     "execution_count": 26,
     "metadata": {},
     "output_type": "execute_result"
    }
   ],
   "source": [
    "# my spotify username and playlist ids \n",
    "# on playlist page, click on \"...\" -> then on \"Share\" -> then \"Copy Spotify URI\"\n",
    "def getTrackIDs(user, playlist_id):\n",
    "    ids = []\n",
    "    playlist = sp.user_playlist(user, playlist_id)\n",
    "    for item in playlist['tracks']['items']:\n",
    "        track = item['track']\n",
    "        ids.append(track['id'])\n",
    "    return ids\n",
    "\n",
    "getTrackIDs(\"anna.tg.3130\", \"https://open.spotify.com/playlist/7p2Y95W2gQmV1XeLy8J74O?si=da29444223ac46b8\")"
   ]
  },
  {
   "cell_type": "code",
   "execution_count": 27,
   "metadata": {},
   "outputs": [
    {
     "data": {
      "text/plain": [
       "['Dancing in the Moonlight',\n",
       " \"Onka's Big Moka\",\n",
       " 'Toploader',\n",
       " '2000',\n",
       " 232693,\n",
       " 77,\n",
       " 0.0624,\n",
       " 0.632,\n",
       " 0.856,\n",
       " 0,\n",
       " 0.347,\n",
       " -3.463,\n",
       " 0.0348,\n",
       " 119.397,\n",
       " 0.867,\n",
       " 4,\n",
       " 10,\n",
       " 1,\n",
       " 'spotify:track:3Fzlg5r1IjhLk2qRw667od']"
      ]
     },
     "execution_count": 27,
     "metadata": {},
     "output_type": "execute_result"
    }
   ],
   "source": [
    "# Get spotify singular song data from these locations\n",
    "# https://developer.spotify.com/documentation/web-api/reference/#/operations/get-track\n",
    "# https://developer.spotify.com/documentation/web-api/reference/#/operations/get-audio-features\n",
    "def getTrackFeatures(id):\n",
    "    meta = sp.track(id)\n",
    "    features = sp.audio_features(id)\n",
    "\n",
    "    # meta\n",
    "    name = meta['name']\n",
    "    album = meta['album']['name']\n",
    "    artist = meta['album']['artists'][0]['name']\n",
    "    release_date = meta['album']['release_date']\n",
    "    length = meta['duration_ms']\n",
    "    popularity = meta['popularity']\n",
    "\n",
    "    # features\n",
    "    acousticness = features[0]['acousticness']\n",
    "    danceability = features[0]['danceability']\n",
    "    energy = features[0]['energy']\n",
    "    instrumentalness = features[0]['instrumentalness']\n",
    "    liveness = features[0]['liveness']\n",
    "    loudness = features[0]['loudness']\n",
    "    speechiness = features[0]['speechiness']\n",
    "    tempo = features[0]['tempo']\n",
    "    valence = features[0]['valence']\n",
    "    time_signature = features[0]['time_signature']\n",
    "    key = features[0]['key']\n",
    "    mode = features[0]['mode']\n",
    "    uri = features[0]['uri']\n",
    "\n",
    "    track = [name, album, artist, release_date,\n",
    "             length, popularity, acousticness,\n",
    "             danceability, energy, instrumentalness, \n",
    "             liveness, loudness, speechiness, tempo, \n",
    "             valence, time_signature,\n",
    "             key, mode, uri]\n",
    "    return track\n",
    "\n",
    "getTrackFeatures(\"https://open.spotify.com/track/3Fzlg5r1IjhLk2qRw667od?si=169dfdf9ee5147cd\")"
   ]
  },
  {
   "cell_type": "code",
   "execution_count": 28,
   "metadata": {},
   "outputs": [],
   "source": [
    "\n",
    "def loop_playist(playlist_ids):\n",
    "    tracks = []\n",
    "    for i in range(len(playlist_ids)):\n",
    "        time.sleep(.2)\n",
    "        track = getTrackFeatures(playlist_ids[i])\n",
    "        tracks.append(track)\n",
    "    return tracks"
   ]
  },
  {
   "cell_type": "code",
   "execution_count": 30,
   "metadata": {},
   "outputs": [],
   "source": [
    "\n",
    "# turn data into dataframe\n",
    "def get_spotify_df(tracks, year):\n",
    "    df = pd.DataFrame(tracks, columns = ['name', 'album', 'artist', 'release_date',\n",
    "                                         'length', 'popularity', 'acousticness', 'danceability',\n",
    "                                         'energy', 'instrumentalness', 'liveness', 'loudness',\n",
    "                                         'speechiness', 'tempo', 'valence', 'time_signature',\n",
    "                                         'key', 'mode', 'uri'])\n",
    "    return df"
   ]
  }
 ],
 "metadata": {
  "interpreter": {
   "hash": "4f50382ad2d93c536978ed0e35636019369f9238d67da977c0b2dc99fad9d873"
  },
  "kernelspec": {
   "display_name": "Python 3.6.5 64-bit",
   "language": "python",
   "name": "python3"
  },
  "language_info": {
   "codemirror_mode": {
    "name": "ipython",
    "version": 3
   },
   "file_extension": ".py",
   "mimetype": "text/x-python",
   "name": "python",
   "nbconvert_exporter": "python",
   "pygments_lexer": "ipython3",
   "version": "3.6.5"
  },
  "orig_nbformat": 4
 },
 "nbformat": 4,
 "nbformat_minor": 2
}
