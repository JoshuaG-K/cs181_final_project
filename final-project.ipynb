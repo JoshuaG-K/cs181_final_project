{
 "cells": [
  {
   "cell_type": "code",
   "execution_count": 1,
   "metadata": {},
   "outputs": [
    {
     "ename": "ModuleNotFoundError",
     "evalue": "No module named 'spotipy'",
     "output_type": "error",
     "traceback": [
      "\u001b[1;31m---------------------------------------------------------------------------\u001b[0m",
      "\u001b[1;31mModuleNotFoundError\u001b[0m                       Traceback (most recent call last)",
      "\u001b[1;32m<ipython-input-1-48dae31443d2>\u001b[0m in \u001b[0;36m<module>\u001b[1;34m()\u001b[0m\n\u001b[0;32m      1\u001b[0m \u001b[1;33m\u001b[0m\u001b[0m\n\u001b[1;32m----> 2\u001b[1;33m \u001b[1;32mimport\u001b[0m \u001b[0mspotipy\u001b[0m\u001b[1;33m\u001b[0m\u001b[0m\n\u001b[0m\u001b[0;32m      3\u001b[0m \u001b[1;32mfrom\u001b[0m \u001b[0mspotipy\u001b[0m\u001b[1;33m.\u001b[0m\u001b[0moauth2\u001b[0m \u001b[1;32mimport\u001b[0m \u001b[0mSpotifyClientCredentials\u001b[0m\u001b[1;33m\u001b[0m\u001b[0m\n\u001b[0;32m      4\u001b[0m \u001b[1;32mimport\u001b[0m \u001b[0mpandas\u001b[0m \u001b[1;32mas\u001b[0m \u001b[0mpd\u001b[0m\u001b[1;33m\u001b[0m\u001b[0m\n\u001b[0;32m      5\u001b[0m \u001b[1;32mimport\u001b[0m \u001b[0mtime\u001b[0m\u001b[1;33m\u001b[0m\u001b[0m\n",
      "\u001b[1;31mModuleNotFoundError\u001b[0m: No module named 'spotipy'"
     ]
    }
   ],
   "source": [
    "\n",
    "import spotipy\n",
    "from spotipy.oauth2 import SpotifyClientCredentials\n",
    "import pandas as pd\n",
    "import time \n",
    "import numpy as np"
   ]
  },
  {
   "cell_type": "code",
   "execution_count": null,
   "metadata": {},
   "outputs": [],
   "source": [
    "\n",
    "\n",
    "# We encountered several difficulties \n",
    "# along the way that stalled us for hours. It was\n",
    "#  incredibly difficult for us to determine how\n",
    "#   to generate a token and our token generating \n",
    "#   was failing. However, we found a great alternative\n",
    "#    that allowed us to obtain the needed information\n",
    "    # # from a personal user. \n",
    "\n",
    "    # Here's our slides:  https://docs.google.com/presentation/d/1xHC0CAzLZTtsaFAwmHM36Kn_Ph9yZnPPA6DDyxs8cGI/edit?usp=sharing"
   ]
  },
  {
   "cell_type": "code",
   "execution_count": null,
   "metadata": {},
   "outputs": [],
   "source": [
    "client_id = \"e48709930bc044afb6047c47172f98e9\"\n",
    "client_secret = \"50e182557c4c4428ac50e3f6abb8accd\"\n",
    "\n",
    "client_credentials_manager = SpotifyClientCredentials(client_id, client_secret)\n",
    "sp = spotipy.Spotify(client_credentials_manager=client_credentials_manager)"
   ]
  },
  {
   "cell_type": "code",
   "execution_count": null,
   "metadata": {},
   "outputs": [],
   "source": [
    "# my spotify username and playlist ids \n",
    "# on playlist page, click on \"...\" -> then on \"Share\" -> then \"Copy Spotify URI\"\n",
    "def getTrackIDs(user, playlist_id):\n",
    "    ids = []\n",
    "    playlist = sp.user_playlist(user, playlist_id)\n",
    "    for item in playlist['tracks']['items']:\n",
    "        track = item['track']\n",
    "        ids.append(track['id'])\n",
    "    return ids\n",
    "\n",
    "getTrackIDs(\"anna.tg.3130\", \"https://open.spotify.com/playlist/7p2Y95W2gQmV1XeLy8J74O?si=da29444223ac46b8\")"
   ]
  },
  {
   "cell_type": "code",
   "execution_count": null,
   "metadata": {},
   "outputs": [],
   "source": [
    "# Get spotify singular song data from these locations\n",
    "# https://developer.spotify.com/documentation/web-api/reference/#/operations/get-track\n",
    "# https://developer.spotify.com/documentation/web-api/reference/#/operations/get-audio-features\n",
    "def getTrackFeatures(id):\n",
    "    meta = sp.track(id)\n",
    "    features = sp.audio_features(id)\n",
    "\n",
    "    # meta\n",
    "    name = meta['name']\n",
    "    album = meta['album']['name']\n",
    "    artist = meta['album']['artists'][0]['name']\n",
    "    release_date = meta['album']['release_date']\n",
    "    length = meta['duration_ms']\n",
    "    popularity = meta['popularity']\n",
    "\n",
    "    # features\n",
    "    acousticness = features[0]['acousticness']\n",
    "    danceability = features[0]['danceability']\n",
    "    energy = features[0]['energy']\n",
    "    instrumentalness = features[0]['instrumentalness']\n",
    "    liveness = features[0]['liveness']\n",
    "    loudness = features[0]['loudness']\n",
    "    speechiness = features[0]['speechiness']\n",
    "    tempo = features[0]['tempo']\n",
    "    valence = features[0]['valence']\n",
    "    time_signature = features[0]['time_signature']\n",
    "    key = features[0]['key']\n",
    "    mode = features[0]['mode']\n",
    "    uri = features[0]['uri']\n",
    "\n",
    "    track = [name, album, artist, release_date,\n",
    "             length, popularity, acousticness,\n",
    "             danceability, energy, instrumentalness, \n",
    "             liveness, loudness, speechiness, tempo, \n",
    "             valence, time_signature,\n",
    "             key, mode, uri]\n",
    "    return track\n",
    "\n",
    "getTrackFeatures(\"https://open.spotify.com/track/3Fzlg5r1IjhLk2qRw667od?si=169dfdf9ee5147cd\")"
   ]
  },
  {
   "cell_type": "code",
   "execution_count": null,
   "metadata": {},
   "outputs": [],
   "source": [
    "\n",
    "def loop_playist(playlist_ids):\n",
    "    tracks = []\n",
    "    for i in range(len(playlist_ids)):\n",
    "        time.sleep(.2)\n",
    "        track = getTrackFeatures(playlist_ids[i])\n",
    "        tracks.append(track)\n",
    "    return tracks"
   ]
  },
  {
   "cell_type": "code",
   "execution_count": null,
   "metadata": {},
   "outputs": [],
   "source": [
    ":\n",
    "# turn data into dataframe\n",
    "def get_spotify_df(tracks, year):\n",
    "    df = pd.DataFrame(tracks, columns = ['name', 'album', 'artist', 'release_date',\n",
    "                                         'length', 'popularity', 'acousticness', 'danceability',\n",
    "                                         'energy', 'instrumentalness', 'liveness', 'loudness',\n",
    "                                         'speechiness', 'tempo', 'valence', 'time_signature',\n",
    "                                         'key', 'mode', 'uri'])\n",
    "    return df"
   ]
  }
 ],
 "metadata": {
  "interpreter": {
   "hash": "4f50382ad2d93c536978ed0e35636019369f9238d67da977c0b2dc99fad9d873"
  },
  "kernelspec": {
   "display_name": "Python 3.6.5 64-bit",
   "language": "python",
   "name": "python3"
  },
  "language_info": {
   "codemirror_mode": {
    "name": "ipython",
    "version": 3
   },
   "file_extension": ".py",
   "mimetype": "text/x-python",
   "name": "python",
   "nbconvert_exporter": "python",
   "pygments_lexer": "ipython3",
   "version": "3.6.5"
  },
  "orig_nbformat": 4
 },
 "nbformat": 4,
 "nbformat_minor": 2
}
